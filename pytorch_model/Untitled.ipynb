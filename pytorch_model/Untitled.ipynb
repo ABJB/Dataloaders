{
 "cells": [
  {
   "cell_type": "code",
   "execution_count": 2,
   "metadata": {},
   "outputs": [],
   "source": [
    "import numpy as np\n",
    "from PIL import Image\n",
    "import torch\n",
    "# CUDA for PyTorch\n",
    "use_cuda = torch.cuda.is_available()\n",
    "device = torch.device(\"cuda:0\" if use_cuda else \"cpu\")"
   ]
  },
  {
   "cell_type": "code",
   "execution_count": 5,
   "metadata": {},
   "outputs": [
    {
     "ename": "RuntimeError",
     "evalue": "Could not infer dtype of JpegImageFile",
     "output_type": "error",
     "traceback": [
      "\u001b[0;31m---------------------------------------------------------------------------\u001b[0m",
      "\u001b[0;31mRuntimeError\u001b[0m                              Traceback (most recent call last)",
      "\u001b[0;32m<ipython-input-5-97ebab7ea0d4>\u001b[0m in \u001b[0;36m<module>\u001b[0;34m\u001b[0m\n\u001b[0;32m----> 1\u001b[0;31m \u001b[0mimg\u001b[0m \u001b[0;34m=\u001b[0m \u001b[0mtorch\u001b[0m\u001b[0;34m.\u001b[0m\u001b[0mtensor\u001b[0m\u001b[0;34m(\u001b[0m\u001b[0mImage\u001b[0m\u001b[0;34m.\u001b[0m\u001b[0mopen\u001b[0m\u001b[0;34m(\u001b[0m\u001b[0;34m'./0samples/face1.jpeg'\u001b[0m\u001b[0;34m)\u001b[0m\u001b[0;34m)\u001b[0m\u001b[0;34m\u001b[0m\u001b[0;34m\u001b[0m\u001b[0m\n\u001b[0m",
      "\u001b[0;31mRuntimeError\u001b[0m: Could not infer dtype of JpegImageFile"
     ]
    }
   ],
   "source": [
    "img = torch.tensor(Image.open('./0samples/face1.jpeg'))"
   ]
  },
  {
   "cell_type": "code",
   "execution_count": null,
   "metadata": {},
   "outputs": [],
   "source": [
    "import cv2\n",
    "from  pytorch_dataset_tupple_generator import Dataset\n",
    "import scipy.misc\n",
    "import torch\n",
    "\n",
    "transform_dict = {\n",
    "        'nn_input_image_shape': (100, 100),\n",
    "        'crop_pixel': (20, 20),\n",
    "        'rotation_angles' :[25,15,12,0,-12,-15,-25],\n",
    "        'rotaion_angle_probabilities' :[0.01,0.02,0.12,0.70,0.12,0.02,0.01],\n",
    "        'flip_hor_ver_probabilities' :(0.4, 0.07),\n",
    "        'gaussian_filter_probability' : 0.04,\n",
    "        'unsharp_mask_filter_probability' : 0.04\n",
    "    }\n",
    "param_dict = {\n",
    "    'transform_dict': transform_dict,\n",
    "    'batch_size':3,\n",
    "    'num_worker':1,\n",
    "    'drop_remainder': False,\n",
    "    'shuffle':True\n",
    "}\n",
    "\n",
    "data_dict = {\n",
    "    'img_source' : 'local',\n",
    "    'img_root': './0samples/',\n",
    "    'labels_csv': './sam.csv'\n",
    "}\n",
    "\n",
    "# CUDA for PyTorch\n",
    "use_cuda = torch.cuda.is_available()\n",
    "device = torch.device(\"cuda:0\" if use_cuda else \"cpu\")\n",
    "\n",
    "\n",
    "\n",
    "\n",
    "data = Dataset(data_dict,param_dict,device)()\n",
    "\n",
    "for imgs,labels in data:\n",
    "\tprint(imgs[0].shape)\n",
    "\tscipy.misc.toimage(imgs[0].cpu()).save('./sample_out/' + str(labels[0].cpu())+'.jpeg')\n",
    "\tscipy.misc.toimage(imgs[1].cpu()).save('./sample_out/' + str(labels[1].cpu())+'.jpeg')\n"
   ]
  },
  {
   "cell_type": "code",
   "execution_count": 9,
   "metadata": {},
   "outputs": [],
   "source": [
    "img = torch.tensor(img).to"
   ]
  },
  {
   "cell_type": "code",
   "execution_count": 11,
   "metadata": {},
   "outputs": [],
   "source": [
    "img = img.to(device)"
   ]
  },
  {
   "cell_type": "code",
   "execution_count": null,
   "metadata": {},
   "outputs": [],
   "source": []
  }
 ],
 "metadata": {
  "kernelspec": {
   "display_name": "Python 3",
   "language": "python",
   "name": "python3"
  }
 },
 "nbformat": 4,
 "nbformat_minor": 2
}
